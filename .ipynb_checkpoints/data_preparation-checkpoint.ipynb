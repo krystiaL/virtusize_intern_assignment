{
 "cells": [
  {
   "cell_type": "markdown",
   "id": "1b11519d-4418-42f9-a643-b79efa6db029",
   "metadata": {
    "tags": []
   },
   "source": [
    "## Instructions"
   ]
  },
  {
   "cell_type": "markdown",
   "id": "63a1bf6d-777a-4230-848c-5fd989c2ae25",
   "metadata": {
    "tags": []
   },
   "source": [
    "2 datasets(train and test) with thousand of rowsfo body measurement for both men and women.\n",
    "\n",
    "Train Dataset:\n",
    "- Features:\n",
    "    - gender\n",
    "    - age\n",
    "    - height (in mm)\n",
    "    - weight (in kgs)\n",
    "- Targets:\n",
    "    -  bust_circumference (in mm)\n",
    "    - waist_circumference (in mm)\n",
    "    - hip_circumference (in mm)\n",
    "\n",
    "**Task**\n",
    "\n",
    "---\n",
    "Predict the target measurement for the test dataset.\n",
    "Output format:\n",
    "- 3 columns for every row of the dataset"
   ]
  },
  {
   "cell_type": "markdown",
   "id": "f55720ea-9ec9-4aac-9675-5f3d5dbb7192",
   "metadata": {
    "tags": []
   },
   "source": [
    "## Imports"
   ]
  },
  {
   "cell_type": "code",
   "execution_count": 1,
   "id": "aa90dcdc-23ea-4707-8e91-e9c59753663b",
   "metadata": {},
   "outputs": [],
   "source": [
    "import pandas as pd\n",
    "import numpy as np\n",
    "import seaborn as sns\n",
    "import matplotlib.pyplot as plt\n",
    "\n",
    "from bmi import bmi_calculator"
   ]
  },
  {
   "cell_type": "markdown",
   "id": "160ccf8e-47af-40c3-873a-6c5f050332b7",
   "metadata": {
    "tags": []
   },
   "source": [
    "## Data Exploration"
   ]
  },
  {
   "cell_type": "code",
   "execution_count": 2,
   "id": "39404a15-067a-41c9-8033-2516cec8cfdb",
   "metadata": {},
   "outputs": [],
   "source": [
    "#load train data from csv to dataframe\n",
    "train_df = pd.read_csv('train.csv', thousands=',')"
   ]
  },
  {
   "cell_type": "markdown",
   "id": "a1d0f938-bdcd-438d-8cf5-a2e8b1229a2e",
   "metadata": {
    "tags": []
   },
   "source": [
    "### Initial feature overview"
   ]
  },
  {
   "cell_type": "code",
   "execution_count": 3,
   "id": "207c5216-f392-449f-b1c8-fe68ff38e787",
   "metadata": {},
   "outputs": [
    {
     "data": {
      "text/html": [
       "<div>\n",
       "<style scoped>\n",
       "    .dataframe tbody tr th:only-of-type {\n",
       "        vertical-align: middle;\n",
       "    }\n",
       "\n",
       "    .dataframe tbody tr th {\n",
       "        vertical-align: top;\n",
       "    }\n",
       "\n",
       "    .dataframe thead th {\n",
       "        text-align: right;\n",
       "    }\n",
       "</style>\n",
       "<table border=\"1\" class=\"dataframe\">\n",
       "  <thead>\n",
       "    <tr style=\"text-align: right;\">\n",
       "      <th></th>\n",
       "      <th>gender</th>\n",
       "      <th>age</th>\n",
       "      <th>height</th>\n",
       "      <th>weight</th>\n",
       "      <th>bust_circumference</th>\n",
       "      <th>waist_circumference</th>\n",
       "      <th>hip_circumference</th>\n",
       "    </tr>\n",
       "  </thead>\n",
       "  <tbody>\n",
       "    <tr>\n",
       "      <th>0</th>\n",
       "      <td>M</td>\n",
       "      <td>18.0</td>\n",
       "      <td>1674.0</td>\n",
       "      <td>52.9</td>\n",
       "      <td>790.0</td>\n",
       "      <td>655.0</td>\n",
       "      <td>851.0</td>\n",
       "    </tr>\n",
       "    <tr>\n",
       "      <th>1</th>\n",
       "      <td>M</td>\n",
       "      <td>18.0</td>\n",
       "      <td>1678.0</td>\n",
       "      <td>55.8</td>\n",
       "      <td>825.0</td>\n",
       "      <td>654.0</td>\n",
       "      <td>880.0</td>\n",
       "    </tr>\n",
       "    <tr>\n",
       "      <th>2</th>\n",
       "      <td>M</td>\n",
       "      <td>23.0</td>\n",
       "      <td>1790.0</td>\n",
       "      <td>57.5</td>\n",
       "      <td>800.0</td>\n",
       "      <td>650.0</td>\n",
       "      <td>870.0</td>\n",
       "    </tr>\n",
       "  </tbody>\n",
       "</table>\n",
       "</div>"
      ],
      "text/plain": [
       "  gender   age  height  weight  bust_circumference  waist_circumference  \\\n",
       "0      M  18.0  1674.0    52.9               790.0                655.0   \n",
       "1      M  18.0  1678.0    55.8               825.0                654.0   \n",
       "2      M  23.0  1790.0    57.5               800.0                650.0   \n",
       "\n",
       "   hip_circumference  \n",
       "0              851.0  \n",
       "1              880.0  \n",
       "2              870.0  "
      ]
     },
     "execution_count": 3,
     "metadata": {},
     "output_type": "execute_result"
    }
   ],
   "source": [
    "#inspect the first 3 entries\n",
    "train_df.head(3)"
   ]
  },
  {
   "cell_type": "code",
   "execution_count": 4,
   "id": "75d837bf-361c-47be-b241-507834950118",
   "metadata": {},
   "outputs": [
    {
     "data": {
      "text/plain": [
       "(5137, 7)"
      ]
     },
     "execution_count": 4,
     "metadata": {},
     "output_type": "execute_result"
    }
   ],
   "source": [
    "# check how many rows and columns\n",
    "train_df.shape"
   ]
  },
  {
   "cell_type": "code",
   "execution_count": 5,
   "id": "7bfaa9bc-d1a3-476f-bd56-3f3a3bb53c4e",
   "metadata": {},
   "outputs": [
    {
     "data": {
      "text/plain": [
       "Index(['gender', 'age', 'height', 'weight', 'bust_circumference',\n",
       "       'waist_circumference', 'hip_circumference'],\n",
       "      dtype='object')"
      ]
     },
     "execution_count": 5,
     "metadata": {},
     "output_type": "execute_result"
    }
   ],
   "source": [
    "# display all the available column names\n",
    "train_df.columns"
   ]
  },
  {
   "cell_type": "code",
   "execution_count": 6,
   "id": "c5e2c669-602f-4670-bb3c-dadf62e6d4ea",
   "metadata": {},
   "outputs": [
    {
     "name": "stdout",
     "output_type": "stream",
     "text": [
      "<class 'pandas.core.frame.DataFrame'>\n",
      "RangeIndex: 5137 entries, 0 to 5136\n",
      "Data columns (total 7 columns):\n",
      " #   Column               Non-Null Count  Dtype  \n",
      "---  ------               --------------  -----  \n",
      " 0   gender               5136 non-null   object \n",
      " 1   age                  5136 non-null   float64\n",
      " 2   height               5135 non-null   float64\n",
      " 3   weight               5130 non-null   float64\n",
      " 4   bust_circumference   5133 non-null   float64\n",
      " 5   waist_circumference  5133 non-null   float64\n",
      " 6   hip_circumference    5133 non-null   float64\n",
      "dtypes: float64(6), object(1)\n",
      "memory usage: 281.1+ KB\n"
     ]
    }
   ],
   "source": [
    "# display additional info about each columns such as data types and number of non-null values\n",
    "train_df.info()"
   ]
  },
  {
   "cell_type": "code",
   "execution_count": 7,
   "id": "21b4d705-d117-4d73-8c6d-d902d7aa2b14",
   "metadata": {},
   "outputs": [],
   "source": [
    "# declare numerical and categorical feature columns\n",
    "feat_num = train_df.select_dtypes(exclude='object').columns\n",
    "\n",
    "feat_cat = train_df.select_dtypes(include='object').columns"
   ]
  },
  {
   "cell_type": "code",
   "execution_count": 8,
   "id": "24d91c17-68fa-4693-bee7-d1926b779dcd",
   "metadata": {},
   "outputs": [
    {
     "data": {
      "text/plain": [
       "7"
      ]
     },
     "execution_count": 8,
     "metadata": {},
     "output_type": "execute_result"
    }
   ],
   "source": [
    "#check if total no. of features is correct\n",
    "len(feat_cat) + len(feat_num)"
   ]
  },
  {
   "cell_type": "markdown",
   "id": "7d1d3fe9-8b5c-4344-a78f-6282f0b2aef1",
   "metadata": {
    "tags": []
   },
   "source": [
    "### (1) Duplicates"
   ]
  },
  {
   "cell_type": "code",
   "execution_count": 9,
   "id": "b1a1cd44-8a55-4720-9c4f-50251a58daba",
   "metadata": {},
   "outputs": [
    {
     "data": {
      "text/plain": [
       "4"
      ]
     },
     "execution_count": 9,
     "metadata": {},
     "output_type": "execute_result"
    }
   ],
   "source": [
    "#check for duplicates to avoid data leakage\n",
    "duplicate_count = train_df.duplicated().sum()\n",
    "duplicate_count"
   ]
  },
  {
   "cell_type": "code",
   "execution_count": 10,
   "id": "68b7fcc9-6a4f-4ade-bc27-379bed12a3af",
   "metadata": {},
   "outputs": [],
   "source": [
    "#remove duplicates and overwrite the dataset\n",
    "train_df = train_df.drop_duplicates()"
   ]
  },
  {
   "cell_type": "code",
   "execution_count": 11,
   "id": "87c6ae2c-28a9-4713-bb2e-48990112ea61",
   "metadata": {},
   "outputs": [
    {
     "data": {
      "text/plain": [
       "0"
      ]
     },
     "execution_count": 11,
     "metadata": {},
     "output_type": "execute_result"
    }
   ],
   "source": [
    "#check if duplicates have been removed\n",
    "train_df.duplicated().sum()"
   ]
  },
  {
   "cell_type": "code",
   "execution_count": 12,
   "id": "3fc91256-e578-4cd3-8fc3-6977c882d4f3",
   "metadata": {},
   "outputs": [
    {
     "data": {
      "text/html": [
       "<div>\n",
       "<style scoped>\n",
       "    .dataframe tbody tr th:only-of-type {\n",
       "        vertical-align: middle;\n",
       "    }\n",
       "\n",
       "    .dataframe tbody tr th {\n",
       "        vertical-align: top;\n",
       "    }\n",
       "\n",
       "    .dataframe thead th {\n",
       "        text-align: right;\n",
       "    }\n",
       "</style>\n",
       "<table border=\"1\" class=\"dataframe\">\n",
       "  <thead>\n",
       "    <tr style=\"text-align: right;\">\n",
       "      <th></th>\n",
       "      <th>gender</th>\n",
       "      <th>age</th>\n",
       "      <th>height</th>\n",
       "      <th>weight</th>\n",
       "      <th>bust_circumference</th>\n",
       "      <th>waist_circumference</th>\n",
       "      <th>hip_circumference</th>\n",
       "    </tr>\n",
       "  </thead>\n",
       "  <tbody>\n",
       "    <tr>\n",
       "      <th>0</th>\n",
       "      <td>M</td>\n",
       "      <td>18.0</td>\n",
       "      <td>1674.0</td>\n",
       "      <td>52.9</td>\n",
       "      <td>790.0</td>\n",
       "      <td>655.0</td>\n",
       "      <td>851.0</td>\n",
       "    </tr>\n",
       "    <tr>\n",
       "      <th>1</th>\n",
       "      <td>M</td>\n",
       "      <td>18.0</td>\n",
       "      <td>1678.0</td>\n",
       "      <td>55.8</td>\n",
       "      <td>825.0</td>\n",
       "      <td>654.0</td>\n",
       "      <td>880.0</td>\n",
       "    </tr>\n",
       "    <tr>\n",
       "      <th>2</th>\n",
       "      <td>M</td>\n",
       "      <td>23.0</td>\n",
       "      <td>1790.0</td>\n",
       "      <td>57.5</td>\n",
       "      <td>800.0</td>\n",
       "      <td>650.0</td>\n",
       "      <td>870.0</td>\n",
       "    </tr>\n",
       "    <tr>\n",
       "      <th>3</th>\n",
       "      <td>F</td>\n",
       "      <td>37.0</td>\n",
       "      <td>1626.0</td>\n",
       "      <td>66.3</td>\n",
       "      <td>962.0</td>\n",
       "      <td>820.0</td>\n",
       "      <td>997.0</td>\n",
       "    </tr>\n",
       "    <tr>\n",
       "      <th>4</th>\n",
       "      <td>M</td>\n",
       "      <td>24.0</td>\n",
       "      <td>1722.0</td>\n",
       "      <td>69.2</td>\n",
       "      <td>948.0</td>\n",
       "      <td>785.0</td>\n",
       "      <td>937.0</td>\n",
       "    </tr>\n",
       "  </tbody>\n",
       "</table>\n",
       "</div>"
      ],
      "text/plain": [
       "  gender   age  height  weight  bust_circumference  waist_circumference  \\\n",
       "0      M  18.0  1674.0    52.9               790.0                655.0   \n",
       "1      M  18.0  1678.0    55.8               825.0                654.0   \n",
       "2      M  23.0  1790.0    57.5               800.0                650.0   \n",
       "3      F  37.0  1626.0    66.3               962.0                820.0   \n",
       "4      M  24.0  1722.0    69.2               948.0                785.0   \n",
       "\n",
       "   hip_circumference  \n",
       "0              851.0  \n",
       "1              880.0  \n",
       "2              870.0  \n",
       "3              997.0  \n",
       "4              937.0  "
      ]
     },
     "execution_count": 12,
     "metadata": {},
     "output_type": "execute_result"
    }
   ],
   "source": [
    "train_df.head(5)"
   ]
  },
  {
   "cell_type": "markdown",
   "id": "3dd0b42c-5636-48d0-bb5e-67c32909b3f5",
   "metadata": {
    "tags": []
   },
   "source": [
    "### (2) Missing Values"
   ]
  },
  {
   "cell_type": "code",
   "execution_count": 13,
   "id": "b680a820-05ad-4374-be92-e14086114119",
   "metadata": {},
   "outputs": [
    {
     "data": {
      "text/plain": [
       "weight                 0.001364\n",
       "bust_circumference     0.000779\n",
       "waist_circumference    0.000779\n",
       "hip_circumference      0.000779\n",
       "height                 0.000390\n",
       "gender                 0.000195\n",
       "age                    0.000195\n",
       "dtype: float64"
      ]
     },
     "execution_count": 13,
     "metadata": {},
     "output_type": "execute_result"
    }
   ],
   "source": [
    "# check the percentage of missing values for every column\n",
    "train_df.isnull().sum().sort_values(ascending=False)/len(train_df)"
   ]
  },
  {
   "cell_type": "code",
   "execution_count": 14,
   "id": "5b25e69a-cbaa-415f-987a-9b7c2fbb7497",
   "metadata": {},
   "outputs": [
    {
     "data": {
      "text/plain": [
       "weight                 7\n",
       "bust_circumference     4\n",
       "waist_circumference    4\n",
       "hip_circumference      4\n",
       "height                 2\n",
       "gender                 1\n",
       "age                    1\n",
       "dtype: int64"
      ]
     },
     "execution_count": 14,
     "metadata": {},
     "output_type": "execute_result"
    }
   ],
   "source": [
    "# check for number of missing values for every column of the data \n",
    "train_df.isnull().sum().sort_values(ascending=False)"
   ]
  },
  {
   "cell_type": "code",
   "execution_count": 15,
   "id": "4ff125cb-9e23-48d0-a45f-d53add12a1e0",
   "metadata": {},
   "outputs": [],
   "source": [
    "target_feat = ['bust_circumference', 'waist_circumference', 'hip_circumference']"
   ]
  },
  {
   "cell_type": "code",
   "execution_count": 16,
   "id": "32c87d5a-4c48-4cf7-8b82-d5daf25a6e1a",
   "metadata": {},
   "outputs": [],
   "source": [
    "bust_na_rows = train_df.loc[train_df[target_feat[0]].isnull()]\n",
    "waist_na_rows = train_df.loc[train_df[target_feat[1]].isnull()]\n",
    "hip_na_rows = train_df.loc[train_df[target_feat[2]].isnull()]"
   ]
  },
  {
   "cell_type": "code",
   "execution_count": 17,
   "id": "db6070b1-13e6-469f-92e7-5f0729e0163b",
   "metadata": {},
   "outputs": [],
   "source": [
    "combined_missing_rows = pd.concat([bust_na_rows, waist_na_rows, hip_na_rows], axis=0)\n",
    "combined_missing_rows = combined_missing_rows.drop_duplicates()"
   ]
  },
  {
   "cell_type": "code",
   "execution_count": 18,
   "id": "9ad85ad0-0e76-45cf-897e-2d17e8c9b29f",
   "metadata": {},
   "outputs": [
    {
     "data": {
      "text/html": [
       "<div>\n",
       "<style scoped>\n",
       "    .dataframe tbody tr th:only-of-type {\n",
       "        vertical-align: middle;\n",
       "    }\n",
       "\n",
       "    .dataframe tbody tr th {\n",
       "        vertical-align: top;\n",
       "    }\n",
       "\n",
       "    .dataframe thead th {\n",
       "        text-align: right;\n",
       "    }\n",
       "</style>\n",
       "<table border=\"1\" class=\"dataframe\">\n",
       "  <thead>\n",
       "    <tr style=\"text-align: right;\">\n",
       "      <th></th>\n",
       "      <th>gender</th>\n",
       "      <th>age</th>\n",
       "      <th>height</th>\n",
       "      <th>weight</th>\n",
       "      <th>bust_circumference</th>\n",
       "      <th>waist_circumference</th>\n",
       "      <th>hip_circumference</th>\n",
       "    </tr>\n",
       "  </thead>\n",
       "  <tbody>\n",
       "    <tr>\n",
       "      <th>2360</th>\n",
       "      <td>NaN</td>\n",
       "      <td>NaN</td>\n",
       "      <td>NaN</td>\n",
       "      <td>NaN</td>\n",
       "      <td>NaN</td>\n",
       "      <td>NaN</td>\n",
       "      <td>NaN</td>\n",
       "    </tr>\n",
       "    <tr>\n",
       "      <th>3303</th>\n",
       "      <td>M</td>\n",
       "      <td>31.0</td>\n",
       "      <td>1725.0</td>\n",
       "      <td>NaN</td>\n",
       "      <td>NaN</td>\n",
       "      <td>NaN</td>\n",
       "      <td>NaN</td>\n",
       "    </tr>\n",
       "    <tr>\n",
       "      <th>4189</th>\n",
       "      <td>M</td>\n",
       "      <td>22.0</td>\n",
       "      <td>1730.0</td>\n",
       "      <td>NaN</td>\n",
       "      <td>NaN</td>\n",
       "      <td>NaN</td>\n",
       "      <td>NaN</td>\n",
       "    </tr>\n",
       "    <tr>\n",
       "      <th>4876</th>\n",
       "      <td>M</td>\n",
       "      <td>37.0</td>\n",
       "      <td>NaN</td>\n",
       "      <td>83.9</td>\n",
       "      <td>NaN</td>\n",
       "      <td>NaN</td>\n",
       "      <td>NaN</td>\n",
       "    </tr>\n",
       "  </tbody>\n",
       "</table>\n",
       "</div>"
      ],
      "text/plain": [
       "     gender   age  height  weight  bust_circumference  waist_circumference  \\\n",
       "2360    NaN   NaN     NaN     NaN                 NaN                  NaN   \n",
       "3303      M  31.0  1725.0     NaN                 NaN                  NaN   \n",
       "4189      M  22.0  1730.0     NaN                 NaN                  NaN   \n",
       "4876      M  37.0     NaN    83.9                 NaN                  NaN   \n",
       "\n",
       "      hip_circumference  \n",
       "2360                NaN  \n",
       "3303                NaN  \n",
       "4189                NaN  \n",
       "4876                NaN  "
      ]
     },
     "execution_count": 18,
     "metadata": {},
     "output_type": "execute_result"
    }
   ],
   "source": [
    "combined_missing_rows"
   ]
  },
  {
   "cell_type": "code",
   "execution_count": 19,
   "id": "a1c2ae12-bdab-4455-835c-49c777057b84",
   "metadata": {},
   "outputs": [
    {
     "name": "stdout",
     "output_type": "stream",
     "text": [
      "The missing rows account for approximately 0.078 of the total dataset\n"
     ]
    }
   ],
   "source": [
    "# Percentage of the null rows to check if the number is significant \n",
    "total_rows = train_df.shape[0]\n",
    "missing_rows = combined_missing_rows.shape[0]\n",
    "significance = (missing_rows/total_rows)*100\n",
    "approx_significance = round(significance, 3)\n",
    "\n",
    "print(f'The missing rows account for approximately {approx_significance} of the total dataset')"
   ]
  },
  {
   "cell_type": "markdown",
   "id": "0966c52d-ec94-4f46-95a8-75425401d4c7",
   "metadata": {},
   "source": [
    "---\n",
    "**Findings:**\n",
    "- Majority of the missing values in the dataset comes from these four rows. \n",
    "    - row 2360 is completely empty \n",
    "    - rows 3303 and 4189 all have missing weight and target feature values\n",
    "    - row 4876 have missing height value and the three target values\n",
    "\n",
    "**Insights and Approach:**\n",
    "- Only 1 row shows no information, we can opt to remove this row. However, all the remaining rows lack the target feature values. \n",
    "- Imputing these measurements might affect the prediction since size measurement prediction needs to be as accurate as possible, so I will opt to remove these rows instead.\n",
    "- The number of missing rows is also really small (4 rows) and only accounts for 7.8% of the dataset so removing these null values does not significantly affect the train dataset. \n",
    "---"
   ]
  },
  {
   "cell_type": "code",
   "execution_count": 20,
   "id": "7285d923-97cf-45df-a6ad-051780f0e405",
   "metadata": {},
   "outputs": [
    {
     "data": {
      "text/plain": [
       "Int64Index([2360, 3303, 4189, 4876], dtype='int64')"
      ]
     },
     "execution_count": 20,
     "metadata": {},
     "output_type": "execute_result"
    }
   ],
   "source": [
    "#get the indices of the rows having all target values as null\n",
    "indices_to_delete = combined_missing_rows.index\n",
    "indices_to_delete"
   ]
  },
  {
   "cell_type": "code",
   "execution_count": 21,
   "id": "b8ae5399-88f0-4d84-a4da-8ca305ba310f",
   "metadata": {},
   "outputs": [],
   "source": [
    "# remove the indexed rows from the dataset\n",
    "train_df_cleaned = train_df.drop(indices_to_delete)"
   ]
  },
  {
   "cell_type": "code",
   "execution_count": 22,
   "id": "edb27d5c-f4e1-48eb-891e-1c189e331c25",
   "metadata": {},
   "outputs": [
    {
     "data": {
      "text/plain": [
       "weight                 4\n",
       "gender                 0\n",
       "age                    0\n",
       "height                 0\n",
       "bust_circumference     0\n",
       "waist_circumference    0\n",
       "hip_circumference      0\n",
       "dtype: int64"
      ]
     },
     "execution_count": 22,
     "metadata": {},
     "output_type": "execute_result"
    }
   ],
   "source": [
    "#check the missing value count for the cleaned dataset\n",
    "train_df_cleaned.isnull().sum().sort_values(ascending=False)"
   ]
  },
  {
   "cell_type": "code",
   "execution_count": 23,
   "id": "3311bf39-4103-413e-bad0-431f380e6e6f",
   "metadata": {},
   "outputs": [
    {
     "data": {
      "text/html": [
       "<div>\n",
       "<style scoped>\n",
       "    .dataframe tbody tr th:only-of-type {\n",
       "        vertical-align: middle;\n",
       "    }\n",
       "\n",
       "    .dataframe tbody tr th {\n",
       "        vertical-align: top;\n",
       "    }\n",
       "\n",
       "    .dataframe thead th {\n",
       "        text-align: right;\n",
       "    }\n",
       "</style>\n",
       "<table border=\"1\" class=\"dataframe\">\n",
       "  <thead>\n",
       "    <tr style=\"text-align: right;\">\n",
       "      <th></th>\n",
       "      <th>gender</th>\n",
       "      <th>age</th>\n",
       "      <th>height</th>\n",
       "      <th>weight</th>\n",
       "      <th>bust_circumference</th>\n",
       "      <th>waist_circumference</th>\n",
       "      <th>hip_circumference</th>\n",
       "    </tr>\n",
       "  </thead>\n",
       "  <tbody>\n",
       "    <tr>\n",
       "      <th>0</th>\n",
       "      <td>M</td>\n",
       "      <td>18.0</td>\n",
       "      <td>1674.0</td>\n",
       "      <td>52.9</td>\n",
       "      <td>790.0</td>\n",
       "      <td>655.0</td>\n",
       "      <td>851.0</td>\n",
       "    </tr>\n",
       "    <tr>\n",
       "      <th>1</th>\n",
       "      <td>M</td>\n",
       "      <td>18.0</td>\n",
       "      <td>1678.0</td>\n",
       "      <td>55.8</td>\n",
       "      <td>825.0</td>\n",
       "      <td>654.0</td>\n",
       "      <td>880.0</td>\n",
       "    </tr>\n",
       "    <tr>\n",
       "      <th>2</th>\n",
       "      <td>M</td>\n",
       "      <td>23.0</td>\n",
       "      <td>1790.0</td>\n",
       "      <td>57.5</td>\n",
       "      <td>800.0</td>\n",
       "      <td>650.0</td>\n",
       "      <td>870.0</td>\n",
       "    </tr>\n",
       "  </tbody>\n",
       "</table>\n",
       "</div>"
      ],
      "text/plain": [
       "  gender   age  height  weight  bust_circumference  waist_circumference  \\\n",
       "0      M  18.0  1674.0    52.9               790.0                655.0   \n",
       "1      M  18.0  1678.0    55.8               825.0                654.0   \n",
       "2      M  23.0  1790.0    57.5               800.0                650.0   \n",
       "\n",
       "   hip_circumference  \n",
       "0              851.0  \n",
       "1              880.0  \n",
       "2              870.0  "
      ]
     },
     "execution_count": 23,
     "metadata": {},
     "output_type": "execute_result"
    }
   ],
   "source": [
    "train_df_cleaned.head(3)"
   ]
  },
  {
   "cell_type": "markdown",
   "id": "a1463c12-2b88-48ba-9fde-2a5a4c5c5abc",
   "metadata": {
    "tags": []
   },
   "source": [
    "### Data distribution after removing the 4 rows"
   ]
  },
  {
   "cell_type": "markdown",
   "id": "20e11852-96d8-491e-ac5b-76dfc0b6f39f",
   "metadata": {},
   "source": [
    "The following statistical insights before and after the removal of the 4 rows shows that those rows did not have a substantial influence on the overall distribution of the data."
   ]
  },
  {
   "cell_type": "markdown",
   "id": "6b599b03-8afb-4f3b-94c2-af3aef11de36",
   "metadata": {
    "jp-MarkdownHeadingCollapsed": true,
    "tags": []
   },
   "source": [
    "#### Weight"
   ]
  },
  {
   "cell_type": "code",
   "execution_count": 24,
   "id": "fbef8806-27df-4a72-9d59-d75af47c14a4",
   "metadata": {},
   "outputs": [],
   "source": [
    "# statistics before removing the 4 rows\n",
    "weight_mean_before = train_df['weight'].mean()\n",
    "weight_median_before = train_df['weight'].median()\n",
    "weight_std_before = train_df['weight'].std()\n",
    "\n",
    "# statistics after removing the 4 rows\n",
    "weight_mean_after = train_df_cleaned['weight'].mean()\n",
    "weight_median_after = train_df_cleaned['weight'].median()\n",
    "weight_std_after = train_df_cleaned['weight'].std()"
   ]
  },
  {
   "cell_type": "code",
   "execution_count": 25,
   "id": "ec074eef-fb61-405f-a42c-859e0df68134",
   "metadata": {},
   "outputs": [
    {
     "name": "stdout",
     "output_type": "stream",
     "text": [
      "Before removing the 4 rows:\n",
      "Mean: 63.865528677331255\n",
      "Median: 61.7\n",
      "Standard Deviation: 12.64260376792063\n",
      "\n",
      "After removing the 4 rows:\n",
      "Mean: 63.86161951219513\n",
      "Median: 61.7\n",
      "Standard Deviation: 12.640738700496613\n"
     ]
    }
   ],
   "source": [
    "# Print statistics\n",
    "print(\"Before removing the 4 rows:\")\n",
    "print(\"Mean:\", weight_mean_before)\n",
    "print(\"Median:\", weight_median_before)\n",
    "print(\"Standard Deviation:\", weight_std_before)\n",
    "print(\"\\nAfter removing the 4 rows:\")\n",
    "print(\"Mean:\", weight_mean_after)\n",
    "print(\"Median:\", weight_median_after)\n",
    "print(\"Standard Deviation:\", weight_std_after)"
   ]
  },
  {
   "cell_type": "code",
   "execution_count": 26,
   "id": "1d7070b4-9ded-4516-b15e-6e188498d6e1",
   "metadata": {
    "tags": []
   },
   "outputs": [
    {
     "data": {
      "image/png": "[encoded data removed]",
      "text/plain": [
       "<Figure size 1000x500 with 2 Axes>"
      ]
     },
     "metadata": {},
     "output_type": "display_data"
    }
   ],
   "source": [
    "# Weights distribution prior to row removal\n",
    "fig, ax = plt.subplots(ncols=2, figsize=(10, 5))\n",
    "sns.histplot(data=train_df['weight'], ax= ax[0])\n",
    "sns.boxplot(data=train_df['weight'], ax= ax[1])\n",
    "\n",
    "fig.suptitle('Weight Distribution Prior to Rows Removal')\n",
    "plt.show()"
   ]
  },
  {
   "cell_type": "code",
   "execution_count": 27,
   "id": "9ad58b4f-804e-4076-b8d0-69a6f1ef5d0b",
   "metadata": {},
   "outputs": [
    {
     "data": {
      "image/png": "[encoded data removed]",
      "text/plain": [
       "<Figure size 1000x500 with 2 Axes>"
      ]
     },
     "metadata": {},
     "output_type": "display_data"
    }
   ],
   "source": [
    "# Weights distribution after missing row removal\n",
    "fig, ax = plt.subplots(ncols=2, figsize=(10, 5))\n",
    "sns.histplot(data=train_df_cleaned['weight'], ax= ax[0])\n",
    "sns.boxplot(data=train_df_cleaned['weight'], ax= ax[1])\n",
    "\n",
    "fig.suptitle('Weight Distribution After Rows Removal')\n",
    "plt.show()"
   ]
  },
  {
   "cell_type": "markdown",
   "id": "6b50fc36-ed24-4286-9e67-cde7e3199a06",
   "metadata": {
    "jp-MarkdownHeadingCollapsed": true,
    "tags": []
   },
   "source": [
    "#### Height"
   ]
  },
  {
   "cell_type": "code",
   "execution_count": 28,
   "id": "568dd57c-6252-4924-9bf9-9cea152f3e84",
   "metadata": {},
   "outputs": [],
   "source": [
    "# statistics before removing the 4 rows\n",
    "height_mean_before = train_df['height'].mean()\n",
    "height_median_before = train_df['height'].median()\n",
    "height_std_before = train_df['height'].std()\n",
    "\n",
    "# statistics after removing the 4 rows\n",
    "height_mean_after = train_df_cleaned['height'].mean()\n",
    "height_median_after = train_df_cleaned['height'].median()\n",
    "height_std_after = train_df_cleaned['height'].std()"
   ]
  },
  {
   "cell_type": "code",
   "execution_count": 29,
   "id": "aa06c45c-6f4d-46b3-b21e-abab048ef69d",
   "metadata": {},
   "outputs": [
    {
     "name": "stdout",
     "output_type": "stream",
     "text": [
      "Before removing the 4 rows:\n",
      "Mean: 1654.1878776067044\n",
      "Median: 1653.0\n",
      "Standard Deviation: 89.78500732933142\n",
      "\n",
      "After removing the 4 rows:\n",
      "Mean: 1654.159290310002\n",
      "Median: 1653.0\n",
      "Standard Deviation: 89.79082432715269\n"
     ]
    }
   ],
   "source": [
    "# Print statistics\n",
    "print(\"Before removing the 4 rows:\")\n",
    "print(\"Mean:\", height_mean_before)\n",
    "print(\"Median:\", height_median_before)\n",
    "print(\"Standard Deviation:\", height_std_before)\n",
    "print(\"\\nAfter removing the 4 rows:\")\n",
    "print(\"Mean:\", height_mean_after)\n",
    "print(\"Median:\", height_median_after)\n",
    "print(\"Standard Deviation:\", height_std_after)"
   ]
  },
  {
   "cell_type": "code",
   "execution_count": 30,
   "id": "f975c0b8-4b54-460a-a1bb-5bbb199ffb1c",
   "metadata": {},
   "outputs": [
    {
     "data": {
      "image/png": "[encoded data removed]",
      "text/plain": [
       "<Figure size 1000x500 with 2 Axes>"
      ]
     },
     "metadata": {},
     "output_type": "display_data"
    }
   ],
   "source": [
    "# Weights distribution prior to row removal\n",
    "fig, ax = plt.subplots(ncols=2, figsize=(10, 5))\n",
    "sns.histplot(data=train_df['height'], ax= ax[0])\n",
    "sns.boxplot(data=train_df['height'], ax= ax[1])\n",
    "\n",
    "fig.suptitle('Height Distribution Prior to Rows Removal')\n",
    "plt.show()"
   ]
  },
  {
   "cell_type": "code",
   "execution_count": 31,
   "id": "2df3db5a-de65-45b5-a2b4-774e26bf62f9",
   "metadata": {},
   "outputs": [
    {
     "data": {
      "image/png": "[encoded data removed]",
      "text/plain": [
       "<Figure size 1000x500 with 2 Axes>"
      ]
     },
     "metadata": {},
     "output_type": "display_data"
    }
   ],
   "source": [
    "# Weights distribution prior to row removal\n",
    "fig, ax = plt.subplots(ncols=2, figsize=(10, 5))\n",
    "sns.histplot(data=train_df_cleaned['height'], ax= ax[0])\n",
    "sns.boxplot(data=train_df_cleaned['height'], ax= ax[1])\n",
    "\n",
    "fig.suptitle('Height Distribution After Rows Removal')\n",
    "plt.show()"
   ]
  },
  {
   "cell_type": "markdown",
   "id": "e9955f7d-323e-4c72-aa0d-36d99c9460a4",
   "metadata": {},
   "source": [
    "## Export the cleaned dataset"
   ]
  },
  {
   "cell_type": "code",
   "execution_count": 32,
   "id": "d182f85b-649c-4c19-8b56-5bf634207508",
   "metadata": {},
   "outputs": [],
   "source": [
    "#set correct dtype\n",
    "columns_to_int = [column for column in feat_num if column !='weight']"
   ]
  },
  {
   "cell_type": "code",
   "execution_count": 33,
   "id": "c94b77b7-6719-43c7-ae41-33c3166584ce",
   "metadata": {},
   "outputs": [
    {
     "data": {
      "text/plain": [
       "['age',\n",
       " 'height',\n",
       " 'bust_circumference',\n",
       " 'waist_circumference',\n",
       " 'hip_circumference']"
      ]
     },
     "execution_count": 33,
     "metadata": {},
     "output_type": "execute_result"
    }
   ],
   "source": [
    "columns_to_int"
   ]
  },
  {
   "cell_type": "code",
   "execution_count": 34,
   "id": "a130112d-a999-4a39-a762-ec77ad7b6743",
   "metadata": {},
   "outputs": [
    {
     "data": {
      "text/html": [
       "<div>\n",
       "<style scoped>\n",
       "    .dataframe tbody tr th:only-of-type {\n",
       "        vertical-align: middle;\n",
       "    }\n",
       "\n",
       "    .dataframe tbody tr th {\n",
       "        vertical-align: top;\n",
       "    }\n",
       "\n",
       "    .dataframe thead th {\n",
       "        text-align: right;\n",
       "    }\n",
       "</style>\n",
       "<table border=\"1\" class=\"dataframe\">\n",
       "  <thead>\n",
       "    <tr style=\"text-align: right;\">\n",
       "      <th></th>\n",
       "      <th>gender</th>\n",
       "      <th>age</th>\n",
       "      <th>height</th>\n",
       "      <th>weight</th>\n",
       "      <th>bust_circumference</th>\n",
       "      <th>waist_circumference</th>\n",
       "      <th>hip_circumference</th>\n",
       "    </tr>\n",
       "  </thead>\n",
       "  <tbody>\n",
       "    <tr>\n",
       "      <th>0</th>\n",
       "      <td>M</td>\n",
       "      <td>18</td>\n",
       "      <td>1674</td>\n",
       "      <td>52.9</td>\n",
       "      <td>790</td>\n",
       "      <td>655</td>\n",
       "      <td>851</td>\n",
       "    </tr>\n",
       "    <tr>\n",
       "      <th>1</th>\n",
       "      <td>M</td>\n",
       "      <td>18</td>\n",
       "      <td>1678</td>\n",
       "      <td>55.8</td>\n",
       "      <td>825</td>\n",
       "      <td>654</td>\n",
       "      <td>880</td>\n",
       "    </tr>\n",
       "    <tr>\n",
       "      <th>2</th>\n",
       "      <td>M</td>\n",
       "      <td>23</td>\n",
       "      <td>1790</td>\n",
       "      <td>57.5</td>\n",
       "      <td>800</td>\n",
       "      <td>650</td>\n",
       "      <td>870</td>\n",
       "    </tr>\n",
       "    <tr>\n",
       "      <th>3</th>\n",
       "      <td>F</td>\n",
       "      <td>37</td>\n",
       "      <td>1626</td>\n",
       "      <td>66.3</td>\n",
       "      <td>962</td>\n",
       "      <td>820</td>\n",
       "      <td>997</td>\n",
       "    </tr>\n",
       "    <tr>\n",
       "      <th>4</th>\n",
       "      <td>M</td>\n",
       "      <td>24</td>\n",
       "      <td>1722</td>\n",
       "      <td>69.2</td>\n",
       "      <td>948</td>\n",
       "      <td>785</td>\n",
       "      <td>937</td>\n",
       "    </tr>\n",
       "    <tr>\n",
       "      <th>...</th>\n",
       "      <td>...</td>\n",
       "      <td>...</td>\n",
       "      <td>...</td>\n",
       "      <td>...</td>\n",
       "      <td>...</td>\n",
       "      <td>...</td>\n",
       "      <td>...</td>\n",
       "    </tr>\n",
       "    <tr>\n",
       "      <th>5132</th>\n",
       "      <td>M</td>\n",
       "      <td>32</td>\n",
       "      <td>1756</td>\n",
       "      <td>65.4</td>\n",
       "      <td>896</td>\n",
       "      <td>820</td>\n",
       "      <td>930</td>\n",
       "    </tr>\n",
       "    <tr>\n",
       "      <th>5133</th>\n",
       "      <td>F</td>\n",
       "      <td>22</td>\n",
       "      <td>1619</td>\n",
       "      <td>52.7</td>\n",
       "      <td>838</td>\n",
       "      <td>734</td>\n",
       "      <td>926</td>\n",
       "    </tr>\n",
       "    <tr>\n",
       "      <th>5134</th>\n",
       "      <td>M</td>\n",
       "      <td>27</td>\n",
       "      <td>1760</td>\n",
       "      <td>75.0</td>\n",
       "      <td>930</td>\n",
       "      <td>845</td>\n",
       "      <td>983</td>\n",
       "    </tr>\n",
       "    <tr>\n",
       "      <th>5135</th>\n",
       "      <td>M</td>\n",
       "      <td>56</td>\n",
       "      <td>1562</td>\n",
       "      <td>62.2</td>\n",
       "      <td>890</td>\n",
       "      <td>866</td>\n",
       "      <td>887</td>\n",
       "    </tr>\n",
       "    <tr>\n",
       "      <th>5136</th>\n",
       "      <td>M</td>\n",
       "      <td>38</td>\n",
       "      <td>1732</td>\n",
       "      <td>78.7</td>\n",
       "      <td>990</td>\n",
       "      <td>872</td>\n",
       "      <td>984</td>\n",
       "    </tr>\n",
       "  </tbody>\n",
       "</table>\n",
       "<p>5129 rows × 7 columns</p>\n",
       "</div>"
      ],
      "text/plain": [
       "     gender  age  height  weight  bust_circumference  waist_circumference  \\\n",
       "0         M   18    1674    52.9                 790                  655   \n",
       "1         M   18    1678    55.8                 825                  654   \n",
       "2         M   23    1790    57.5                 800                  650   \n",
       "3         F   37    1626    66.3                 962                  820   \n",
       "4         M   24    1722    69.2                 948                  785   \n",
       "...     ...  ...     ...     ...                 ...                  ...   \n",
       "5132      M   32    1756    65.4                 896                  820   \n",
       "5133      F   22    1619    52.7                 838                  734   \n",
       "5134      M   27    1760    75.0                 930                  845   \n",
       "5135      M   56    1562    62.2                 890                  866   \n",
       "5136      M   38    1732    78.7                 990                  872   \n",
       "\n",
       "      hip_circumference  \n",
       "0                   851  \n",
       "1                   880  \n",
       "2                   870  \n",
       "3                   997  \n",
       "4                   937  \n",
       "...                 ...  \n",
       "5132                930  \n",
       "5133                926  \n",
       "5134                983  \n",
       "5135                887  \n",
       "5136                984  \n",
       "\n",
       "[5129 rows x 7 columns]"
      ]
     },
     "execution_count": 34,
     "metadata": {},
     "output_type": "execute_result"
    }
   ],
   "source": [
    "train_df_cleaned[columns_to_int] = train_df_cleaned[columns_to_int].astype(np.int32)\n",
    "train_df_cleaned"
   ]
  },
  {
   "cell_type": "code",
   "execution_count": 35,
   "id": "4b2fa86c-64cf-48c1-9a3c-b11804045dbd",
   "metadata": {},
   "outputs": [
    {
     "name": "stdout",
     "output_type": "stream",
     "text": [
      "<class 'pandas.core.frame.DataFrame'>\n",
      "Int64Index: 5129 entries, 0 to 5136\n",
      "Data columns (total 7 columns):\n",
      " #   Column               Non-Null Count  Dtype  \n",
      "---  ------               --------------  -----  \n",
      " 0   gender               5129 non-null   object \n",
      " 1   age                  5129 non-null   int32  \n",
      " 2   height               5129 non-null   int32  \n",
      " 3   weight               5125 non-null   float64\n",
      " 4   bust_circumference   5129 non-null   int32  \n",
      " 5   waist_circumference  5129 non-null   int32  \n",
      " 6   hip_circumference    5129 non-null   int32  \n",
      "dtypes: float64(1), int32(5), object(1)\n",
      "memory usage: 349.4+ KB\n"
     ]
    }
   ],
   "source": [
    "train_df_cleaned.info()"
   ]
  },
  {
   "cell_type": "code",
   "execution_count": 36,
   "id": "00f07434-34e6-4127-8ec4-e661d94bfce7",
   "metadata": {},
   "outputs": [],
   "source": [
    "train_df_cleaned.to_csv('train_clean.csv', index=False)"
   ]
  },
  {
   "cell_type": "markdown",
   "id": "d3d1dedd-d99e-4c2c-8b76-d0cf46276c3a",
   "metadata": {
    "jp-MarkdownHeadingCollapsed": true,
    "tags": []
   },
   "source": [
    "#### adding a bmi feature"
   ]
  },
  {
   "cell_type": "code",
   "execution_count": 37,
   "id": "feb628e6-7c53-4a6c-b63a-189ff26d7bc1",
   "metadata": {},
   "outputs": [
    {
     "data": {
      "text/html": [
       "<div>\n",
       "<style scoped>\n",
       "    .dataframe tbody tr th:only-of-type {\n",
       "        vertical-align: middle;\n",
       "    }\n",
       "\n",
       "    .dataframe tbody tr th {\n",
       "        vertical-align: top;\n",
       "    }\n",
       "\n",
       "    .dataframe thead th {\n",
       "        text-align: right;\n",
       "    }\n",
       "</style>\n",
       "<table border=\"1\" class=\"dataframe\">\n",
       "  <thead>\n",
       "    <tr style=\"text-align: right;\">\n",
       "      <th></th>\n",
       "      <th>gender</th>\n",
       "      <th>age</th>\n",
       "      <th>height</th>\n",
       "      <th>weight</th>\n",
       "      <th>bust_circumference</th>\n",
       "      <th>waist_circumference</th>\n",
       "      <th>hip_circumference</th>\n",
       "      <th>bmi</th>\n",
       "    </tr>\n",
       "  </thead>\n",
       "  <tbody>\n",
       "    <tr>\n",
       "      <th>0</th>\n",
       "      <td>M</td>\n",
       "      <td>18</td>\n",
       "      <td>1674</td>\n",
       "      <td>52.9</td>\n",
       "      <td>790</td>\n",
       "      <td>655</td>\n",
       "      <td>851</td>\n",
       "      <td>18.88</td>\n",
       "    </tr>\n",
       "    <tr>\n",
       "      <th>1</th>\n",
       "      <td>M</td>\n",
       "      <td>18</td>\n",
       "      <td>1678</td>\n",
       "      <td>55.8</td>\n",
       "      <td>825</td>\n",
       "      <td>654</td>\n",
       "      <td>880</td>\n",
       "      <td>19.82</td>\n",
       "    </tr>\n",
       "    <tr>\n",
       "      <th>2</th>\n",
       "      <td>M</td>\n",
       "      <td>23</td>\n",
       "      <td>1790</td>\n",
       "      <td>57.5</td>\n",
       "      <td>800</td>\n",
       "      <td>650</td>\n",
       "      <td>870</td>\n",
       "      <td>17.95</td>\n",
       "    </tr>\n",
       "    <tr>\n",
       "      <th>3</th>\n",
       "      <td>F</td>\n",
       "      <td>37</td>\n",
       "      <td>1626</td>\n",
       "      <td>66.3</td>\n",
       "      <td>962</td>\n",
       "      <td>820</td>\n",
       "      <td>997</td>\n",
       "      <td>25.08</td>\n",
       "    </tr>\n",
       "    <tr>\n",
       "      <th>4</th>\n",
       "      <td>M</td>\n",
       "      <td>24</td>\n",
       "      <td>1722</td>\n",
       "      <td>69.2</td>\n",
       "      <td>948</td>\n",
       "      <td>785</td>\n",
       "      <td>937</td>\n",
       "      <td>23.34</td>\n",
       "    </tr>\n",
       "    <tr>\n",
       "      <th>...</th>\n",
       "      <td>...</td>\n",
       "      <td>...</td>\n",
       "      <td>...</td>\n",
       "      <td>...</td>\n",
       "      <td>...</td>\n",
       "      <td>...</td>\n",
       "      <td>...</td>\n",
       "      <td>...</td>\n",
       "    </tr>\n",
       "    <tr>\n",
       "      <th>5132</th>\n",
       "      <td>M</td>\n",
       "      <td>32</td>\n",
       "      <td>1756</td>\n",
       "      <td>65.4</td>\n",
       "      <td>896</td>\n",
       "      <td>820</td>\n",
       "      <td>930</td>\n",
       "      <td>21.21</td>\n",
       "    </tr>\n",
       "    <tr>\n",
       "      <th>5133</th>\n",
       "      <td>F</td>\n",
       "      <td>22</td>\n",
       "      <td>1619</td>\n",
       "      <td>52.7</td>\n",
       "      <td>838</td>\n",
       "      <td>734</td>\n",
       "      <td>926</td>\n",
       "      <td>20.11</td>\n",
       "    </tr>\n",
       "    <tr>\n",
       "      <th>5134</th>\n",
       "      <td>M</td>\n",
       "      <td>27</td>\n",
       "      <td>1760</td>\n",
       "      <td>75.0</td>\n",
       "      <td>930</td>\n",
       "      <td>845</td>\n",
       "      <td>983</td>\n",
       "      <td>24.21</td>\n",
       "    </tr>\n",
       "    <tr>\n",
       "      <th>5135</th>\n",
       "      <td>M</td>\n",
       "      <td>56</td>\n",
       "      <td>1562</td>\n",
       "      <td>62.2</td>\n",
       "      <td>890</td>\n",
       "      <td>866</td>\n",
       "      <td>887</td>\n",
       "      <td>25.49</td>\n",
       "    </tr>\n",
       "    <tr>\n",
       "      <th>5136</th>\n",
       "      <td>M</td>\n",
       "      <td>38</td>\n",
       "      <td>1732</td>\n",
       "      <td>78.7</td>\n",
       "      <td>990</td>\n",
       "      <td>872</td>\n",
       "      <td>984</td>\n",
       "      <td>26.23</td>\n",
       "    </tr>\n",
       "  </tbody>\n",
       "</table>\n",
       "<p>5129 rows × 8 columns</p>\n",
       "</div>"
      ],
      "text/plain": [
       "     gender  age  height  weight  bust_circumference  waist_circumference  \\\n",
       "0         M   18    1674    52.9                 790                  655   \n",
       "1         M   18    1678    55.8                 825                  654   \n",
       "2         M   23    1790    57.5                 800                  650   \n",
       "3         F   37    1626    66.3                 962                  820   \n",
       "4         M   24    1722    69.2                 948                  785   \n",
       "...     ...  ...     ...     ...                 ...                  ...   \n",
       "5132      M   32    1756    65.4                 896                  820   \n",
       "5133      F   22    1619    52.7                 838                  734   \n",
       "5134      M   27    1760    75.0                 930                  845   \n",
       "5135      M   56    1562    62.2                 890                  866   \n",
       "5136      M   38    1732    78.7                 990                  872   \n",
       "\n",
       "      hip_circumference    bmi  \n",
       "0                   851  18.88  \n",
       "1                   880  19.82  \n",
       "2                   870  17.95  \n",
       "3                   997  25.08  \n",
       "4                   937  23.34  \n",
       "...                 ...    ...  \n",
       "5132                930  21.21  \n",
       "5133                926  20.11  \n",
       "5134                983  24.21  \n",
       "5135                887  25.49  \n",
       "5136                984  26.23  \n",
       "\n",
       "[5129 rows x 8 columns]"
      ]
     },
     "execution_count": 37,
     "metadata": {},
     "output_type": "execute_result"
    }
   ],
   "source": [
    "#making a new train data with a bmi feature\n",
    "train_clean_bmi = bmi_calculator(train_df_cleaned)\n",
    "train_clean_bmi"
   ]
  },
  {
   "cell_type": "code",
   "execution_count": 39,
   "id": "2677f652-fe8c-4498-85b6-72a023f5807a",
   "metadata": {},
   "outputs": [
    {
     "name": "stdout",
     "output_type": "stream",
     "text": [
      "<class 'pandas.core.frame.DataFrame'>\n",
      "Int64Index: 5129 entries, 0 to 5136\n",
      "Data columns (total 8 columns):\n",
      " #   Column               Non-Null Count  Dtype  \n",
      "---  ------               --------------  -----  \n",
      " 0   gender               5129 non-null   object \n",
      " 1   age                  5129 non-null   int32  \n",
      " 2   height               5129 non-null   int32  \n",
      " 3   weight               5125 non-null   float64\n",
      " 4   bust_circumference   5129 non-null   int32  \n",
      " 5   waist_circumference  5129 non-null   int32  \n",
      " 6   hip_circumference    5129 non-null   int32  \n",
      " 7   bmi                  5125 non-null   float64\n",
      "dtypes: float64(2), int32(5), object(1)\n",
      "memory usage: 389.5+ KB\n"
     ]
    }
   ],
   "source": [
    "train_clean_bmi.info()"
   ]
  },
  {
   "cell_type": "code",
   "execution_count": 38,
   "id": "5774bcfc-9518-4223-b797-bd23fe85dc34",
   "metadata": {},
   "outputs": [],
   "source": [
    "train_clean_bmi.to_csv('train_clean_bmi.csv', index=False)"
   ]
  }
 ],
 "metadata": {
  "kernelspec": {
   "display_name": "Python 3 (ipykernel)",
   "language": "python",
   "name": "python3"
  },
  "language_info": {
   "codemirror_mode": {
    "name": "ipython",
    "version": 3
   },
   "file_extension": ".py",
   "mimetype": "text/x-python",
   "name": "python",
   "nbconvert_exporter": "python",
   "pygments_lexer": "ipython3",
   "version": "3.10.6"
  }
 },
 "nbformat": 4,
 "nbformat_minor": 5
}

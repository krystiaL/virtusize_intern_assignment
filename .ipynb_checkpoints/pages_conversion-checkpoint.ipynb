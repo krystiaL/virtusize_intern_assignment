{
 "cells": [
  {
   "cell_type": "markdown",
   "id": "d2d0841e-ca3d-4d67-a66f-605f5dbd1b43",
   "metadata": {},
   "source": [
    "#### Imports"
   ]
  },
  {
   "cell_type": "code",
   "execution_count": 18,
   "id": "2d6a8c32-1a6d-4d9f-bc31-df04ebfefc19",
   "metadata": {},
   "outputs": [],
   "source": [
    "from pyicloud import PyiCloudService\n",
    "# from dotenv import load_dotenv\n",
    "import os\n",
    "import subprocess"
   ]
  },
  {
   "cell_type": "markdown",
   "id": "821dd52f-0c3f-4736-bbe1-e68ef66b025c",
   "metadata": {},
   "source": [
    "### File conversion"
   ]
  },
  {
   "cell_type": "code",
   "execution_count": 36,
   "id": "e60565db-3a19-42b3-a96a-21f53aeb7413",
   "metadata": {},
   "outputs": [],
   "source": [
    "def convert_pages_to_pdf(pages_file, output_pdf):\n",
    "    #conversion function that takes a pages file and an output pdf file path as parameters.\n",
    "    subprocess.run([\"lowriter\", \"--headless\", \"--convert-to\", \"pdf\",\n",
    "                   f\"--outdir\", os.path.dirname(output_pdf), pages_file],\n",
    "                  check=True)"
   ]
  },
  {
   "cell_type": "code",
   "execution_count": 37,
   "id": "88038330-d60e-4e26-8000-d77c72d73d7c",
   "metadata": {},
   "outputs": [],
   "source": [
    "file_path = 'instructions_and_questions.pages'\n",
    "output_pdf = os.path.join('converted_file', 'converted_instructions_and_questions.pages')"
   ]
  },
  {
   "cell_type": "code",
   "execution_count": 38,
   "id": "f0301583-3bc6-430f-9d5f-b3b8081d35d1",
   "metadata": {},
   "outputs": [
    {
     "name": "stdout",
     "output_type": "stream",
     "text": [
      "instructions_and_questions.pages converted_file/converted_instructions_and_questions.pages\n"
     ]
    }
   ],
   "source": [
    "print(file_path,\n",
    "output_pdf)"
   ]
  },
  {
   "cell_type": "code",
   "execution_count": 39,
   "id": "1f21ffa2",
   "metadata": {},
   "outputs": [
    {
     "name": "stdout",
     "output_type": "stream",
     "text": [
      "convert /root/code/krystiaL/virtusize_data_science_intern_assignment/task/instructions_and_questions.pages -> /root/code/krystiaL/virtusize_data_science_intern_assignment/task/converted_file/instructions_and_questions.pdf using filter : writer_pdf_Export\n",
      "Converted .pages file to PDF: converted_file/converted_instructions_and_questions.pages\n"
     ]
    }
   ],
   "source": [
    "convert_pages_to_pdf(file_path, output_pdf)\n",
    "\n",
    "print(f\"Converted .pages file to PDF: {output_pdf}\")\n"
   ]
  }
 ],
 "metadata": {
  "kernelspec": {
   "display_name": "Python 3 (ipykernel)",
   "language": "python",
   "name": "python3"
  },
  "language_info": {
   "codemirror_mode": {
    "name": "ipython",
    "version": 3
   },
   "file_extension": ".py",
   "mimetype": "text/x-python",
   "name": "python",
   "nbconvert_exporter": "python",
   "pygments_lexer": "ipython3",
   "version": "3.10.6"
  }
 },
 "nbformat": 4,
 "nbformat_minor": 5
}
